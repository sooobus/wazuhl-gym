{
 "cells": [
  {
   "cell_type": "markdown",
   "metadata": {},
   "source": [
    "# Advantage Actor Critic for Wazuhl Environment"
   ]
  },
  {
   "cell_type": "markdown",
   "metadata": {},
   "source": [
    "In this notebook we implement A2C algorithm for Wazuhl Environment."
   ]
  },
  {
   "cell_type": "code",
   "execution_count": 1,
   "metadata": {},
   "outputs": [],
   "source": [
    "import logging\n",
    "logging.getLogger().setLevel(logging.WARNING)"
   ]
  },
  {
   "cell_type": "code",
   "execution_count": 2,
   "metadata": {},
   "outputs": [],
   "source": [
    "import random\n",
    "import gym\n",
    "import torch\n",
    "import numpy as np\n",
    "import torch.nn as nn\n",
    "import torch.optim as optim\n",
    "import torch.nn.functional as F\n",
    "from torch.autograd import Variable\n",
    "import matplotlib.pyplot as plt\n",
    "import pandas as pd"
   ]
  },
  {
   "cell_type": "code",
   "execution_count": 3,
   "metadata": {},
   "outputs": [],
   "source": [
    "from wutils import get_possible_actions"
   ]
  },
  {
   "cell_type": "code",
   "execution_count": 4,
   "metadata": {},
   "outputs": [],
   "source": [
    "from models.a2c import ActorCritic"
   ]
  },
  {
   "cell_type": "code",
   "execution_count": 5,
   "metadata": {},
   "outputs": [],
   "source": [
    "env = gym.make('wazuhl_gym:wazuhl-v0')"
   ]
  },
  {
   "cell_type": "code",
   "execution_count": 6,
   "metadata": {},
   "outputs": [],
   "source": [
    "actions = get_possible_actions(env)"
   ]
  },
  {
   "cell_type": "code",
   "execution_count": 7,
   "metadata": {},
   "outputs": [],
   "source": [
    "actions = actions + [\"terminal\"] # we need this for A2C"
   ]
  },
  {
   "cell_type": "code",
   "execution_count": 8,
   "metadata": {},
   "outputs": [],
   "source": [
    "import sys\n",
    "import torch\n",
    "import gym\n",
    "import numpy as np\n",
    "import torch.nn as nn\n",
    "import torch.optim as optim\n",
    "import torch.nn.functional as F\n",
    "from torch.autograd import Variable\n",
    "import matplotlib.pyplot as plt\n",
    "import pandas as pd\n",
    "\n",
    "class ActorCritic(nn.Module):\n",
    "    def __init__(self, num_inputs, num_actions, vocab, hidden_size=128, learning_rate=3e-4):\n",
    "        super(ActorCritic, self).__init__()\n",
    "\n",
    "        self.num_actions = num_actions\n",
    "        self.hid_size = hidden_size\n",
    "        self.emb_size = hidden_size // 2\n",
    "        self.voc_len = len(vocab)\n",
    "\n",
    "        self.critic_embedding = nn.Embedding(\n",
    "            num_embeddings=self.voc_len,\n",
    "            embedding_dim=self.emb_size,\n",
    "            padding_idx=0)\n",
    "        self.critic_lstm = nn.LSTM(self.emb_size, self.hid_size, batch_first=True)\n",
    "        self.critic_linear1 = nn.Linear(self.hid_size, self.hid_size // 2)\n",
    "        self.critic_linear2 = nn.Linear(self.hid_size // 2, 1)\n",
    "\n",
    "        self.actor_embedding = nn.Embedding(\n",
    "            num_embeddings=self.voc_len,\n",
    "            embedding_dim=self.emb_size,\n",
    "            padding_idx=0)\n",
    "        self.actor_lstm = nn.LSTM(self.emb_size, self.hid_size, batch_first=True)\n",
    "        self.actor_linear1 = nn.Linear(self.hid_size, self.hid_size // 2)\n",
    "        self.actor_linear2 = nn.Linear(self.hid_size // 2, num_actions)\n",
    "\n",
    "    def forward(self, state):\n",
    "        self.hidden_actor = (torch.randn(1, 1, self.hid_size), torch.randn(1, 1, self.hid_size))\n",
    "        self.hidden_critic = (torch.randn(1, 1, self.hid_size), torch.randn(1, 1, self.hid_size))\n",
    "\n",
    "        value = self.critic_embedding(state)\n",
    "        value, self.hidden_critic = self.critic_lstm(value, self.hidden_critic)\n",
    "        value = value[:, -1, :]\n",
    "        value = F.relu(self.critic_linear1(value))\n",
    "        value = self.critic_linear2(value)\n",
    "\n",
    "        policy_dist = self.actor_embedding(state)\n",
    "        policy_dist, self.hidden_actor = self.actor_lstm(policy_dist, self.hidden_actor)\n",
    "        policy_dist = policy_dist[:, -1, :]\n",
    "        policy_dist = F.relu(self.actor_linear1(policy_dist))\n",
    "        policy_dist = F.softmax(self.actor_linear2(policy_dist), dim=1)\n",
    "\n",
    "        return value, policy_dist"
   ]
  },
  {
   "cell_type": "markdown",
   "metadata": {},
   "source": [
    "Apply Actor-Critic for Wazuhl environment:"
   ]
  },
  {
   "cell_type": "code",
   "execution_count": 9,
   "metadata": {},
   "outputs": [],
   "source": [
    "import logging\n",
    "logging.getLogger().setLevel(logging.WARNING)"
   ]
  },
  {
   "cell_type": "code",
   "execution_count": 10,
   "metadata": {},
   "outputs": [],
   "source": [
    "max_episodes = 5000\n",
    "num_steps = 30"
   ]
  },
  {
   "cell_type": "code",
   "execution_count": 11,
   "metadata": {},
   "outputs": [],
   "source": [
    "#compile time, exec time, test_name\n",
    "def get_reward(times):\n",
    "    if times[1] == 0:\n",
    "        return 0\n",
    "    return -times[1] + 10"
   ]
  },
  {
   "cell_type": "code",
   "execution_count": 12,
   "metadata": {},
   "outputs": [],
   "source": [
    "from IPython.display import clear_output"
   ]
  },
  {
   "cell_type": "code",
   "execution_count": null,
   "metadata": {},
   "outputs": [
    {
     "data": {
      "image/png": "[encoded data removed]",
      "text/plain": [
       "<Figure size 432x288 with 1 Axes>"
      ]
     },
     "metadata": {
      "needs_background": "light"
     },
     "output_type": "display_data"
    },
    {
     "data": {
      "image/png": "[encoded data removed]",
      "text/plain": [
       "<Figure size 432x288 with 1 Axes>"
      ]
     },
     "metadata": {
      "needs_background": "light"
     },
     "output_type": "display_data"
    },
    {
     "name": "stdout",
     "output_type": "stream",
     "text": [
      "Start episode\n"
     ]
    }
   ],
   "source": [
    "GAMMA = .95\n",
    "\n",
    "num_inputs = len(actions)\n",
    "num_outputs = env.action_space.n\n",
    "   \n",
    "actor_critic = ActorCritic(num_inputs, num_outputs, actions)\n",
    "ac_optimizer = optim.Adam(actor_critic.parameters(), lr=1e-4)\n",
    "\n",
    "all_lengths = []\n",
    "average_lengths = []\n",
    "all_rewards = []\n",
    "entropy_term = 0\n",
    "\n",
    "for episode in range(max_episodes):\n",
    "    log_probs = []\n",
    "    values = []\n",
    "    rewards = []\n",
    "\n",
    "    state, reward, done, _ = env.reset()\n",
    "    print(\"Start episode\")\n",
    "    for steps in range(num_steps):\n",
    "        #print(steps)\n",
    "        value, policy_dist = actor_critic(torch.tensor(state, dtype=torch.long).view(1, len(state)))\n",
    "        value = value.detach().numpy()[0,0]\n",
    "        dist = policy_dist.detach().numpy() \n",
    "\n",
    "        action = np.random.choice(num_outputs, p=np.squeeze(dist))\n",
    "        log_prob = torch.log(policy_dist.squeeze(0)[action])\n",
    "        entropy = -np.sum(np.mean(dist) * np.log(dist))\n",
    "        new_state, reward, done, _ = env.step(action)\n",
    "\n",
    "        rewards.append(get_reward(reward))\n",
    "        values.append(value)\n",
    "        log_probs.append(log_prob)\n",
    "        entropy_term += entropy\n",
    "        state = new_state\n",
    "            \n",
    "        if steps == num_steps - 1:\n",
    "            print(\"step limit\")\n",
    "            value, policy_dist = actor_critic(torch.tensor(state, dtype=torch.long).view(1, len(state)))\n",
    "            value = value.detach().numpy()[0,0]\n",
    "            dist = policy_dist.detach().numpy() \n",
    "            new_state, reward, done, _ = env.step_name(\"terminal\")\n",
    "            rewards.append(get_reward(reward))\n",
    "            values.append(value)\n",
    "            log_probs.append(log_prob)\n",
    "            entropy = -np.sum(np.mean(dist) * np.log(dist))\n",
    "            entropy_term += entropy\n",
    "            state = new_state\n",
    "            print(done)\n",
    "        \n",
    "        if done:\n",
    "            Qval, _ = actor_critic(torch.tensor(new_state, dtype=torch.long).view(1, len(new_state)))\n",
    "            Qval = Qval.detach().numpy()[0,0]\n",
    "            all_rewards.append(np.sum(rewards))\n",
    "            all_lengths.append(steps)\n",
    "            average_lengths.append(np.mean(all_lengths[-10:]))\n",
    "            if episode % 10 == 0:                    \n",
    "                print(\"episode: {}, reward: {}, total length: {}, average length: {} \\n\".format(episode, np.sum(rewards), steps, average_lengths[-1]))\n",
    "            break\n",
    "        \n",
    "    # compute Q values\n",
    "    Qvals = np.zeros_like(values)\n",
    "    for t in reversed(range(len(rewards))):\n",
    "        Qval = rewards[t] + GAMMA * Qval\n",
    "        Qvals[t] = Qval\n",
    "  \n",
    "    #update actor critic\n",
    "    values = torch.FloatTensor(values)\n",
    "    Qvals = torch.FloatTensor(Qvals)\n",
    "    log_probs = torch.stack(log_probs)\n",
    "        \n",
    "    advantage = Qvals - values\n",
    "    actor_loss = (-log_probs * advantage).mean()\n",
    "    critic_loss = 0.5 * advantage.pow(2).mean()\n",
    "    ac_loss = actor_loss + critic_loss + 0.001 * entropy_term\n",
    "\n",
    "    ac_optimizer.zero_grad()\n",
    "    ac_loss.backward()\n",
    "    ac_optimizer.step()\n",
    "\n",
    "    clear_output()\n",
    "\n",
    "    smoothed_rewards = pd.Series.rolling(pd.Series(all_rewards), 10).mean()\n",
    "    smoothed_rewards = [elem for elem in smoothed_rewards]\n",
    "    plt.plot(all_rewards)\n",
    "    plt.plot(smoothed_rewards)\n",
    "    plt.plot()\n",
    "    plt.xlabel('Episode')\n",
    "    plt.ylabel('Reward')\n",
    "    plt.show()\n",
    "\n",
    "    plt.plot(all_lengths)\n",
    "    plt.plot(average_lengths)\n",
    "    plt.xlabel('Episode')\n",
    "    plt.ylabel('Episode length')\n",
    "    plt.show()"
   ]
  }
 ],
 "metadata": {
  "kernelspec": {
   "display_name": "Python 3",
   "language": "python",
   "name": "python3"
  },
  "language_info": {
   "codemirror_mode": {
    "name": "ipython",
    "version": 3
   },
   "file_extension": ".py",
   "mimetype": "text/x-python",
   "name": "python",
   "nbconvert_exporter": "python",
   "pygments_lexer": "ipython3",
   "version": "3.6.8"
  }
 },
 "nbformat": 4,
 "nbformat_minor": 2
}
