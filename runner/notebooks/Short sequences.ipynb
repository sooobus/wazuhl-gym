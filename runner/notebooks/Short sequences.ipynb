{
 "cells": [
  {
   "cell_type": "code",
   "execution_count": 1,
   "metadata": {},
   "outputs": [],
   "source": [
    "import numpy as np"
   ]
  },
  {
   "cell_type": "code",
   "execution_count": 2,
   "metadata": {},
   "outputs": [
    {
     "name": "stdout",
     "output_type": "stream",
     "text": [
      "3rand_features_2019-05-25 21:34:23.326966.npy\r\n",
      "3rand_features_2019-05-26 05:45:03.397250.npy\r\n",
      "3rand_features_2019-05-26 22:12:01.110881.npy\r\n",
      "Action Time Distributions.ipynb\r\n",
      "Actor-Critic Model.ipynb\r\n",
      "Minimal Working Notebook.ipynb\r\n",
      "Short sequences (1).ipynb\r\n",
      "Short sequences model.ipynb\r\n",
      "Short sequences.ipynb\r\n",
      "compile1 sizes 2019-05-23 21:21:53.311137.npy\r\n",
      "compile1 times 2019-05-23 21:21:53.311137.npy\r\n",
      "compile1(20) sizes 2019-05-24 00:07:27.534098.npy\r\n",
      "compile1(20) times 2019-05-24 00:07:27.534098.npy\r\n",
      "exec1 sizes 2019-05-23 21:21:53.308559.npy\r\n",
      "exec1 times 2019-05-23 21:21:53.308559.npy\r\n",
      "exec1(20) sizes 2019-05-24 00:07:27.532579.npy\r\n",
      "exec1(20) times 2019-05-24 00:07:27.532579.npy\r\n"
     ]
    }
   ],
   "source": [
    "!ls"
   ]
  },
  {
   "cell_type": "code",
   "execution_count": 2,
   "metadata": {},
   "outputs": [],
   "source": [
    "import random\n",
    "import gym"
   ]
  },
  {
   "cell_type": "code",
   "execution_count": 10,
   "metadata": {},
   "outputs": [],
   "source": [
    "import logging\n",
    "logging.getLogger().setLevel(logging.WARNING)"
   ]
  },
  {
   "cell_type": "code",
   "execution_count": 3,
   "metadata": {},
   "outputs": [],
   "source": [
    "env = gym.make('wazuhl_gym:wazuhl-v0')"
   ]
  },
  {
   "cell_type": "code",
   "execution_count": 4,
   "metadata": {},
   "outputs": [],
   "source": [
    "possible_actions = env.action_names\n",
    "actions = list(set(possible_actions) - set([\"terminal\", \"empty\"]))"
   ]
  },
  {
   "cell_type": "code",
   "execution_count": 5,
   "metadata": {},
   "outputs": [
    {
     "data": {
      "text/plain": [
       "101"
      ]
     },
     "execution_count": 5,
     "metadata": {},
     "output_type": "execute_result"
    }
   ],
   "source": [
    "len(actions)"
   ]
  },
  {
   "cell_type": "code",
   "execution_count": 6,
   "metadata": {},
   "outputs": [
    {
     "data": {
      "text/plain": [
       "array(['cfl-steens-aa', 'rpo-functionattrs', 'assumptions'], dtype='<U27')"
      ]
     },
     "execution_count": 6,
     "metadata": {},
     "output_type": "execute_result"
    }
   ],
   "source": [
    "np.random.choice(actions, 3)"
   ]
  },
  {
   "cell_type": "code",
   "execution_count": 13,
   "metadata": {},
   "outputs": [],
   "source": [
    "from collections import namedtuple\n",
    "from tqdm import tqdm_notebook as tqdm\n",
    "\n",
    "Record = namedtuple('Record', ['init_state', 'taken_actions', 'compile_time', 'exec_time', 'test_name'])\n",
    "\n",
    "def get_n_trajectories(env, n, length):\n",
    "    records = []\n",
    "    for _ in tqdm(range(n)):\n",
    "        init_state, reward, done, _ = env.reset()\n",
    "        chosen_actions = np.random.choice(actions, length)\n",
    "        for a in chosen_actions:\n",
    "            state, reward, done, _ = env.step_name(a)\n",
    "        state, reward, done, _ = env.step_name(\"terminal\")\n",
    "        records.append(Record(init_state, chosen_actions, reward[0], reward[1], env.get_name()))\n",
    "    return records"
   ]
  },
  {
   "cell_type": "code",
   "execution_count": 14,
   "metadata": {},
   "outputs": [
    {
     "data": {
      "application/vnd.jupyter.widget-view+json": {
       "model_id": "cba65142d26c4a7eafb6c549a26b42cb",
       "version_major": 2,
       "version_minor": 0
      },
      "text/plain": [
       "HBox(children=(IntProgress(value=0, max=2), HTML(value='')))"
      ]
     },
     "metadata": {},
     "output_type": "display_data"
    },
    {
     "name": "stdout",
     "output_type": "stream",
     "text": [
      "\n"
     ]
    },
    {
     "data": {
      "text/plain": [
       "[Record(init_state=array([29, 29, 29, ..., 31, 30,  1]), taken_actions=array(['loop-instsimplify', 'elim-avail-extern', 'gvn'], dtype='<U27'), compile_time=17.0357, exec_time=6.8233, test_name='sim'),\n",
       " Record(init_state=array([29, 29, 31, 31, 30, 30, 37, 28, 26, 32, 30, 30, 24, 28,  1, 29, 29,\n",
       "        29, 29, 29, 29, 29, 31, 31, 31, 31, 30, 31, 30, 54, 31, 51,  2, 30,\n",
       "        54, 31,  2,  2, 30, 54, 31, 51,  2, 30, 30, 11, 31, 30, 30, 36, 37,\n",
       "        28, 26, 32, 30, 30, 24, 28, 31,  2, 30, 54, 51,  2, 30, 54, 30, 31,\n",
       "         2, 30, 54, 30, 28, 31, 30, 31, 31,  2, 30,  1, 29, 29, 29, 31, 31,\n",
       "        31,  2, 30, 51,  2, 30, 30, 30, 37, 28, 26, 32, 30, 30, 24, 28, 31,\n",
       "         2, 30, 11, 31, 30, 32, 31,  2, 30, 28,  1, 29, 29, 29, 29, 29, 29,\n",
       "        31, 31, 31, 31,  2, 30, 11, 31, 51,  2, 30, 32, 31, 30, 54, 30, 27,\n",
       "        31, 30, 36, 30, 30, 30, 54, 54,  2, 30, 51, 37,  1, 29, 29, 31, 30,\n",
       "        54, 31, 30, 51,  2, 30, 32,  2, 30,  2, 53,  1]), taken_actions=array(['instcombine', 'lowertypetests', 'globaldce'], dtype='<U27'), compile_time=0.0045, exec_time=0.2315, test_name='telecomm-CRC32')]"
      ]
     },
     "execution_count": 14,
     "metadata": {},
     "output_type": "execute_result"
    }
   ],
   "source": [
    "get_n_trajectories(env, 2, 3)"
   ]
  },
  {
   "cell_type": "code",
   "execution_count": 6,
   "metadata": {},
   "outputs": [],
   "source": [
    "ars = []\n",
    "for n in fnames:\n",
    "    ars.append(np.load(n, allow_pickle=True))"
   ]
  },
  {
   "cell_type": "code",
   "execution_count": 7,
   "metadata": {},
   "outputs": [],
   "source": [
    "res = np.concatenate(ars)"
   ]
  },
  {
   "cell_type": "code",
   "execution_count": 31,
   "metadata": {},
   "outputs": [
    {
     "data": {
      "text/plain": [
       "array([array([29, 29, 29, ...,  1, 54,  1]), 'HACCKernels',\n",
       "       (23.7821, 6.8067)], dtype=object)"
      ]
     },
     "execution_count": 31,
     "metadata": {},
     "output_type": "execute_result"
    }
   ],
   "source": [
    "res[0]"
   ]
  },
  {
   "cell_type": "code",
   "execution_count": 15,
   "metadata": {},
   "outputs": [],
   "source": [
    "test_names = [i[1] for i in res]"
   ]
  },
  {
   "cell_type": "code",
   "execution_count": 22,
   "metadata": {},
   "outputs": [
    {
     "data": {
      "text/plain": [
       "array([False, False, False, ..., False, False, False])"
      ]
     },
     "execution_count": 22,
     "metadata": {},
     "output_type": "execute_result"
    }
   ],
   "source": [
    "test_names == np.array(None)"
   ]
  },
  {
   "cell_type": "code",
   "execution_count": 23,
   "metadata": {},
   "outputs": [],
   "source": [
    "a = test_names"
   ]
  },
  {
   "cell_type": "code",
   "execution_count": 25,
   "metadata": {},
   "outputs": [],
   "source": [
    "for i in range(len(test_names)):\n",
    "    if test_names[i] is None:\n",
    "        test_names[i] = \"NOTEST\""
   ]
  },
  {
   "cell_type": "code",
   "execution_count": 26,
   "metadata": {},
   "outputs": [],
   "source": [
    "unique_names = np.unique(test_names)"
   ]
  },
  {
   "cell_type": "code",
   "execution_count": 28,
   "metadata": {},
   "outputs": [
    {
     "data": {
      "text/plain": [
       "116"
      ]
     },
     "execution_count": 28,
     "metadata": {},
     "output_type": "execute_result"
    }
   ],
   "source": [
    "len(unique_names)"
   ]
  },
  {
   "cell_type": "code",
   "execution_count": null,
   "metadata": {},
   "outputs": [],
   "source": [
    "for name in unique_names:\n",
    "    for i in range(len(test_names)):\n",
    "        times = []\n",
    "        triples = []\n",
    "        if test_names[i] == name:\n",
    "            res[i][2][1]        "
   ]
  },
  {
   "cell_type": "code",
   "execution_count": null,
   "metadata": {},
   "outputs": [],
   "source": [
    "# Выберем только 100 хороших троек (посчитаем, сколько раз тройка входит в топ 10 по времени выполнения)\n",
    "\n"
   ]
  }
 ],
 "metadata": {
  "kernelspec": {
   "display_name": "Python 3",
   "language": "python",
   "name": "python3"
  },
  "language_info": {
   "codemirror_mode": {
    "name": "ipython",
    "version": 3
   },
   "file_extension": ".py",
   "mimetype": "text/x-python",
   "name": "python",
   "nbconvert_exporter": "python",
   "pygments_lexer": "ipython3",
   "version": "3.6.8"
  }
 },
 "nbformat": 4,
 "nbformat_minor": 2
}
